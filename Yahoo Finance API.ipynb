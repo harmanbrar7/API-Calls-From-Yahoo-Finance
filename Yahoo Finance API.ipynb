{
 "cells": [
  {
   "cell_type": "code",
   "execution_count": null,
   "id": "2a002ba8-e711-4d2d-9324-f958de4f69b3",
   "metadata": {},
   "outputs": [],
   "source": [
    "import requests\n",
    "\n",
    "#first example with Alpha Vantage, remember to import all other libraries you may need for plotting, numPy, matplot etc\n",
    "\n",
    "# Replace <YOUR_API_KEY> with your actual Alpha Vantage API key\n",
    "api_key = '<YOUR_API_KEY>'\n",
    "\n",
    "# Define the bond symbol and market\n",
    "bond_symbol = 'US10Y'\n",
    "market = 'BOND'\n",
    "\n",
    "# Construct the API request URL\n",
    "url = f'https://www.alphavantage.co/query?function=GLOBAL_QUOTE&symbol={bond_symbol}&market={market}&apikey={api_key}'\n",
    "\n",
    "# Send the API request and parse the response JSON\n",
    "response = requests.get(url)\n",
    "data = response.json()\n",
    "\n",
    "# Extract the current bond price and yield from the response\n",
    "bond_price = float(data['Global Quote']['05. price'])\n",
    "bond_yield = float(data['Global Quote']['50. Yield'])\n",
    "\n",
    "# Print the results\n",
    "print(f'Current bond price: {bond_price:.2f}')\n",
    "print(f'Current bond yield: {bond_yield:.2f}%')\n"
   ]
  },
  {
   "cell_type": "code",
   "execution_count": null,
   "id": "e4a36476-a36d-4dea-966e-6b2c2263c05e",
   "metadata": {},
   "outputs": [],
   "source": [
    "import requests\n",
    "\n",
    "# Define the bond symbol and market\n",
    "bond_symbol = '^TNX'\n",
    "\n",
    "# Construct the API request URL\n",
    "url = f'https://query1.finance.yahoo.com/v8/finance/chart/{bond_symbol}?interval=1d'\n",
    "\n",
    "# Send the API request and parse the response JSON\n",
    "response = requests.get(url)\n",
    "data = response.json()\n",
    "\n",
    "# Extract the current bond yield from the response\n",
    "bond_yield = data['chart']['result'][0]['meta']['regularMarketPrice']\n",
    "\n",
    "# Print the result\n",
    "print(f'Current bond yield: {bond_yield:.2f}%')\n"
   ]
  },
  {
   "cell_type": "code",
   "execution_count": null,
   "id": "6047e1b5-6038-47e3-af29-2e5016981bd6",
   "metadata": {},
   "outputs": [],
   "source": [
    "import requests\n",
    "\n",
    "# Define the stock symbol\n",
    "stock_symbol = 'AAPL'\n",
    "\n",
    "# Construct the API request URL\n",
    "url = f'https://query1.finance.yahoo.com/v8/finance/chart/{stock_symbol}?interval=1d'\n",
    "\n",
    "# Send the API request and parse the response JSON\n",
    "response = requests.get(url)\n",
    "data = response.json()\n",
    "\n",
    "# Extract the current stock price and dividend yield from the response\n",
    "stock_price = data['chart']['result'][0]['meta']['regularMarketPrice']\n",
    "dividend_yield = data['chart']['result'][0]['meta']['dividendYield']\n",
    "\n",
    "# Print the results\n",
    "print(f'Current stock price for {stock_symbol}: {stock_price:.2f}')\n",
    "print(f'Dividend yield for {stock_symbol}: {dividend_yield:.2f}%')\n"
   ]
  }
 ],
 "metadata": {
  "kernelspec": {
   "display_name": "Python 3 (ipykernel)",
   "language": "python",
   "name": "python3"
  },
  "language_info": {
   "codemirror_mode": {
    "name": "ipython",
    "version": 3
   },
   "file_extension": ".py",
   "mimetype": "text/x-python",
   "name": "python",
   "nbconvert_exporter": "python",
   "pygments_lexer": "ipython3",
   "version": "3.10.8"
  }
 },
 "nbformat": 4,
 "nbformat_minor": 5
}
